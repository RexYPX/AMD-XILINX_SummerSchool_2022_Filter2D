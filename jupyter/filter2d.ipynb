{
 "cells": [
  {
   "cell_type": "markdown",
   "metadata": {},
   "source": [
    "## Filter2d Testbench\n",
    "\n",
    "This notebook is to test the implementation of a 2D filter running on the programmable logic. The filter is used to make pictures special, like sharpening, bluring or edge detecting. The output is compared with a Python calculation of the openCV. It takes in img_in(grayscale, size=(128,128)), convolution kernel(3×3), rows and cols and gives out img_out(grayscale, size=(126,126)) which is calculated by the convolution kernel."
   ]
  },
  {
   "cell_type": "markdown",
   "metadata": {},
   "source": [
    "### Import third party libraries"
   ]
  },
  {
   "cell_type": "code",
   "execution_count": null,
   "metadata": {},
   "outputs": [],
   "source": [
    "import cv2\n",
    "import numpy as np\n",
    "import time\n",
    "from matplotlib import pyplot as plt"
   ]
  },
  {
   "cell_type": "markdown",
   "metadata": {},
   "source": [
    "### Load image and show its size"
   ]
  },
  {
   "cell_type": "code",
   "execution_count": null,
   "metadata": {},
   "outputs": [],
   "source": [
    "img = cv2.imread(\"./aojiao_128_128.jpg\")\n",
    "gray = cv2.cvtColor(img, cv2.COLOR_BGR2GRAY)\n",
    "print(\"灰度图尺寸：{}\".format(gray.shape))\n",
    "plt.imshow(gray,cmap='gray')\n",
    "# Loading source image\n",
    "src_image = gray"
   ]
  },
  {
   "cell_type": "markdown",
   "metadata": {},
   "source": [
    "### Load IP"
   ]
  },
  {
   "cell_type": "code",
   "execution_count": null,
   "metadata": {},
   "outputs": [],
   "source": [
    "from pynq import Overlay, allocate\n",
    "\n",
    "overlay = Overlay(\"./filter2D.bit\")\n",
    "\n",
    "myfilter2d = overlay.filter2d_accel_0"
   ]
  },
  {
   "cell_type": "markdown",
   "metadata": {},
   "source": [
    "### Define function to compare the effect between CV2 and customized IP"
   ]
  },
  {
   "cell_type": "code",
   "execution_count": null,
   "metadata": {},
   "outputs": [],
   "source": [
    "def CV2vsIP(src_img, kernel):\n",
    "    #process the same image with opencv and my harware IP\n",
    "    fig_sharpen = plt.figure()\n",
    "   \n",
    "    # fig1: source image\n",
    "    fig1 = fig_sharpen.add_subplot(131)\n",
    "    fig1.title.set_text('original image')\n",
    "    plt.imshow(src_image,cmap='gray')\n",
    "    \n",
    "    # fig2: opencv\n",
    "    start_time = time.time()\n",
    "    cv2_image = cv2.filter2D(src_image, -1, kernel)\n",
    "    end_time = time.time()\n",
    "    \n",
    "    fig2 = fig_sharpen.add_subplot(132)\n",
    "    fig2.title.set_text('CV2 filter2d image')\n",
    "    plt.imshow(cv2_image,cmap='gray')\n",
    "\n",
    "    print(\"OpenCV耗时：{}s\".format(end_time - start_time))\n",
    "    \n",
    "    #fig3: define by IP\n",
    "    # allocate memory\n",
    "    rows, cols= src_image.shape\n",
    "    input_buffer = allocate(shape=(rows*cols,), dtype='int')\n",
    "    output_buffer = allocate(shape=(126*126,), dtype='int')\n",
    "    input_kernel = allocate(shape=(9,), dtype='int')\n",
    "\n",
    "    # input\n",
    "    src_image_new = np.int32(src_image)\n",
    "    kernel_new = np.int32(kernel)\n",
    "    np.copyto(input_buffer, src_image_new.flatten())\n",
    "    np.copyto(input_kernel, kernel_new.flatten())\n",
    "    \n",
    "    #control the fpga\n",
    "    myfilter2d.s_axi_CTRL.write(0x10, rows)\n",
    "    myfilter2d.s_axi_CTRL.write(0x18, cols)\n",
    "    myfilter2d.s_axi_control.write(0x10,input_buffer.physical_address)\n",
    "    myfilter2d.s_axi_control.write(0x1c,input_kernel.physical_address)\n",
    "    myfilter2d.s_axi_control.write(0x28,output_buffer.physical_address)\n",
    "    \n",
    "    #start\n",
    "    myfilter2d.s_axi_CTRL.write(0x00, 0x01)\n",
    "    start_time = time.time()\n",
    "    while True:\n",
    "        reg = myfilter2d.s_axi_CTRL.read(0x00)\n",
    "        if reg != 1:\n",
    "            break\n",
    "    end_time = time.time()\n",
    "\n",
    "    print(\"FPGA耗时：{}s\".format(end_time - start_time))\n",
    "    \n",
    "    output_img = output_buffer\n",
    "    output_img = np.int32(output_img)\n",
    "    fig3 = fig_sharpen.add_subplot(133)\n",
    "    fig3.title.set_text('FPGA filter2d image')\n",
    "    plt.imshow(output_img.reshape(126,126),cmap='gray')\n",
    "    \n",
    "    return"
   ]
  },
  {
   "cell_type": "markdown",
   "metadata": {},
   "source": [
    "### Sharpening an image"
   ]
  },
  {
   "cell_type": "code",
   "execution_count": null,
   "metadata": {},
   "outputs": [],
   "source": [
    "kernel = np.array([\n",
    "  [0, -1, 0],\n",
    "  [-1, 5, -1],\n",
    "  [0, -1, 0]\n",
    "])\n",
    "CV2vsIP(src_image, kernel)"
   ]
  },
  {
   "cell_type": "markdown",
   "metadata": {},
   "source": [
    "### Edge detection"
   ]
  },
  {
   "cell_type": "code",
   "execution_count": null,
   "metadata": {},
   "outputs": [],
   "source": [
    "kernel = np.array([\n",
    "  [-1, -1, -1],\n",
    "  [-1, 9, -1],\n",
    "  [-1, -1, -1]\n",
    "])\n",
    "CV2vsIP(src_image, kernel)"
   ]
  },
  {
   "cell_type": "markdown",
   "metadata": {},
   "source": [
    "### Emboss filter"
   ]
  },
  {
   "cell_type": "code",
   "execution_count": null,
   "metadata": {},
   "outputs": [],
   "source": [
    "kernel = np.array([\n",
    "  [-1, -1, 0],\n",
    "  [-1, 0, 1],\n",
    "  [0, 1, 1]\n",
    "])\n",
    "CV2vsIP(src_image, kernel)"
   ]
  }
 ],
 "metadata": {
  "kernelspec": {
   "display_name": "Python 3.10.4 64-bit",
   "language": "python",
   "name": "python3"
  },
  "language_info": {
   "name": "python",
   "version": "3.10.4"
  },
  "orig_nbformat": 4,
  "vscode": {
   "interpreter": {
    "hash": "369f2c481f4da34e4445cda3fffd2e751bd1c4d706f27375911949ba6bb62e1c"
   }
  }
 },
 "nbformat": 4,
 "nbformat_minor": 2
}
